{
  "cells": [
    {
      "cell_type": "markdown",
      "metadata": {},
      "source": [
        "_Caution: this library is still a work in progress._\n",
        "\n",
        "# RUDI Node tools: *rudi-node-write- library\n",
        "\n",
        "This library offers tools to take advantage of\n",
        "the [internal API](https://app.swaggerhub.com/apis/OlivierMartineau/RudiProducer-InternalAPI) of a RUDI Producer node (\n",
        "also\n",
        "referred as RUDI node), through the API of the backend of the user interface, the \"Producer node manager\" or \"Prodmanager\" module.\n",
        "\n",
        "# Note:\n",
        "To be able to use this library, including the following Jupyter notebook, you will need a valid user account on the RUDI node you are willing to exploit.\n"
      ]
    },
    {
      "cell_type": "markdown",
      "metadata": {},
      "source": [
        "## Environment initialization\n",
        "You may need to install the requirements to be able to run this Python notebook from the source."
      ]
    },
    {
      "cell_type": "code",
      "execution_count": null,
      "metadata": {
        "vscode": {
          "languageId": "shellscript"
        }
      },
      "outputs": [],
      "source": [
        "%%sh\n",
        "python3 -m venv .venv\n",
        "source .venv/bin/activate\n",
        "alias pip=.venv/bin/pip3\n",
        "pip install -r requirements.txt"
      ]
    },
    {
      "cell_type": "markdown",
      "metadata": {},
      "source": [
        "You will most likely need to include the sources path to the PATH environment variable for the subsequent code to run correctly.\n",
        "If not, skip the box bellow."
      ]
    },
    {
      "cell_type": "code",
      "execution_count": null,
      "metadata": {
        "vscode": {
          "languageId": "shellscript"
        }
      },
      "outputs": [],
      "source": [
        "import os\n",
        "import sys\n",
        "\n",
        "print(os.getcwd())\n",
        "\n",
        "# Makes it possible for the Jupyter notebook to use local source files.\n",
        "sys.path.append('./src')\n"
      ]
    },
    {
      "cell_type": "markdown",
      "metadata": {},
      "source": [
        "## Authentication\n",
        "\n",
        "To use the RUDI node internal API `/api/admin/...`, one needs an authentication JWT in every header request.\n",
        "\n",
        "This library was primarily providing a `RudiNodeJwtFactory` connector that calls a [JWT\n",
        "server](https://github.com/sigrennesmetropole/rudi_producer_node/tree/main/rudi-jwt) running either locally or on the RUDI\n",
        "node to create/renew the JWT.\n",
        "As it needs a public key to be deployed on the RUDI node, it's not as convenient as using a user account's credentials.\n",
        "The RUDI node user interface (aka \"RUDI node manager\", \"Producer node manager\" or \"Prodmanager\") backend both needs an identification and offers an API for it: this is the path we have eventually chosen to exploit with the [\"io_rudi_manager_write\"](src/rudi_node_write/connectors/io_rudi_manager_write.py) connector, and the [rudi_node.py](src/rudi_node_write/rudi_node.py) main file, that relies on it. \n",
        "\n",
        "From now on, we will thus only consider the use of a `RudiNodeWriter` object.\n"
      ]
    },
    {
      "cell_type": "markdown",
      "metadata": {},
      "source": [
        "## `RudiNodeWriter` initialization\n",
        "\n",
        "A `RudiNodeWriter` object is initialized with \n",
        "- the URL of the user interface of a RUDI node, that usually ends with `/prodmanager`\n",
        "    - example: `https://bacasable.fenix.rudi-univ-rennes1.fr/prodmanager`\n",
        "- a `RudiNodeAuth` object that is initialized either with a URL-safe base64 encoded `usr:pwd` string, or a coupld of `usr` and `pwd` strings\n"
      ]
    },
    {
      "cell_type": "code",
      "execution_count": null,
      "metadata": {},
      "outputs": [],
      "source": [
        "from rudi_node_write.utils.file_utils import is_file, read_json_file\n",
        "from rudi_node_write.connectors.io_rudi_manager_write import RudiNodeAuth\n",
        "\n",
        "# The following block suppose you have created a file at `./creds/creds.json` that gathers both the URL of the user interface of the node and the credentials\n",
        "creds_file = \"./creds/creds.json\"\n",
        "\n",
        "if is_file(creds_file):\n",
        "    # Reading the credentials in a file\n",
        "    rudi_node_credentials = read_json_file(creds_file)\n",
        "else:\n",
        "    # The content of above JSON credential file would match this ('pm_' is to remind these are credentials for the prodmanager):\n",
        "    rudi_node_credentials = {\n",
        "        \"pm_url\": \"<rudi node url>\", # most likely with \"/prodmanager\" in the end\n",
        "        \"pm_usr\": \"<username>\",  # either use both 'pm_usr' & 'pm_pwd', or the base64url encoded usr:pwd pair in 'pm_b64auth'\n",
        "        \"pm_pwd\": \"<password>\",\n",
        "        \"pm_b64auth\": \"<base64url encoded usr:pwd pair>\"  # optional / alternative way of declaring the usr:pwd pair\n",
        "    }\n",
        "\n",
        "pm_url = rudi_node_credentials['pm_url']\n",
        "print('- pm_url:',pm_url)\n",
        "if (b64url_auth:= rudi_node_credentials['pm_b64auth']) is not None:\n",
        "    auth = RudiNodeAuth(b64url_auth=b64url_auth) \n",
        "else:\n",
        "    auth = RudiNodeAuth(usr=rudi_node_credentials['pm_usr'], pwd=rudi_node_credentials['pm_pwd']) \n",
        "\n",
        "print('- credentials were loaded')\n"
      ]
    },
    {
      "cell_type": "markdown",
      "metadata": {},
      "source": [
        "## Usage: RudiNodeWriter\n",
        "\n",
        "\n",
        "### Access RUDI objects\n",
        "One can access RUDI objects (metadatas, organizations, contacts or medias) with a RudiNodeWriter that uses the [RUDI internal API](https://app.swaggerhub.com/apis/OlivierMartineau/RudiProducer-InternalAPI)."
      ]
    },
    {
      "cell_type": "code",
      "execution_count": null,
      "metadata": {},
      "outputs": [],
      "source": [
        "\n",
        "from rudi_node_write.utils.dict_utils import (filter_dict_list, find_in_dict_list)\n",
        "from rudi_node_write.rudi_node_writer import RudiNodeWriter\n",
        "\n",
        "print(\"-----[ RudiNodeWriter  initialization ]----------------------------------------------------\")\n",
        "rudi_node = RudiNodeWriter(pm_url=pm_url, auth=auth)\n",
        "print(\"-----[ Access to RUDI objects ]------------------------------------------------------------\")\n",
        "print (f\"On node {pm_url}\")\n",
        "print(\"- metadata count:\", rudi_node.metadata_count)\n",
        "print(\"- metadata alt count:\", len(rudi_node.metadata_list))\n",
        "\n",
        "org_names = rudi_node.organization_names\n",
        "print(f\"- {len(org_names)} organizations declared on the node:\", org_names)\n",
        "used_org_names = [org[\"organization_name\"] for org in rudi_node.used_organization_list]\n",
        "print(f\"- {len(used_org_names)} used organizations declared on the node:\", used_org_names)\n",
        "contacts = rudi_node.contact_list\n",
        "print(f\"- {len(contacts)} contacts declared on the node:\", rudi_node.contact_names)\n",
        "used_contact_names = [contact[\"contact_name\"] for contact in rudi_node.used_contact_list]\n",
        "print(f\"- {len(used_contact_names)} contacts declared on the node:\", used_contact_names)\n",
        "\n",
        "print(\"------[ Filtering RUDI objects ]-----------------------------------------------------------\")\n",
        "print(\"RUDI objects can also be filtered, either by using predefined functions or defining custom ones by using filters that mimic RUDI objects structure\")\n",
        "meta_list_toucan = rudi_node.select_metadata_with_media_name(media_name='toucan.jpg')\n",
        "print(\"- number of metadata with a 'toucan.jpg' file name:\", len(meta_list_toucan))\n",
        "\n",
        "meta_toucan = rudi_node.find_metadata_with_media({\"media_name\": 'toucan.jpg'})\n",
        "print(\"- searching a metadata with a 'toucan.jpg' file name:\", meta_toucan['global_id'])\n",
        "\n",
        "meta_toucan = rudi_node.find_in_metadata_list({\"available_formats\": [{\"media_name\": 'toucan.jpg'}]})\n",
        "print(\"- searching a metadata with a 'toucan.jpg' file name:\", meta_toucan['global_id'])\n",
        "\n",
        "org_name = rudi_node.organization_names[0]\n",
        "org = filter_dict_list(rudi_node.organization_list, {\"organization_name\": org_name})\n",
        "\n",
        "print(\"------[ Using RUDI private API ---------------]--------------------------------------------\")\n",
        "print(\"RUDI private API can be leveraged through the Prodmanager '/data' API\")\n",
        "print(\"- metadata grouped by producer:\", rudi_node.connector.get_data('resources?group_by=producer'))\n",
        "producer_count_raw = rudi_node.connector.get_data('resources?count_by=producer')\n",
        "producer_count = [{'producer_name': res['producer']['organization_name'], 'count': res['count']} for res in producer_count_raw]\n",
        "print(\"- metadata count by producer:\", producer_count)"
      ]
    },
    {
      "cell_type": "markdown",
      "metadata": {},
      "source": [
        "## Create/update RUDI objects"
      ]
    },
    {
      "cell_type": "code",
      "execution_count": null,
      "metadata": {},
      "outputs": [],
      "source": [
        "from rudi_node_write.rudi_types.rudi_meta import RudiMetadata\n",
        "\n",
        "\n",
        "example_meta_json = read_json_file(file_path='./tests/_test_files/meta.json')\n",
        "print(example_meta_json)\n",
        "meta = RudiMetadata.from_json(example_meta_json)\n",
        "print(meta)\n",
        "\n",
        "# rudi_node.put_metadata(example_meta_json)\n",
        "\n",
        "rudi_node.put_metadata(meta)\n",
        "print('last_metadata_update_date:', rudi_node.last_metadata_update_date)"
      ]
    },
    {
      "cell_type": "markdown",
      "metadata": {},
      "source": [
        "## Upload a file"
      ]
    },
    {
      "cell_type": "code",
      "execution_count": null,
      "metadata": {},
      "outputs": [],
      "source": [
        "from rudi_node_write.utils.str_utils import uuid4_str\n",
        "\n",
        "media_id = uuid4_str()\n",
        "print('media_id:',media_id)\n",
        "\n",
        "file_local_path = 'tests/_test_files/unicode_chars.txt'\n",
        "assert is_file('tests/_test_files/unicode_chars.txt')"
      ]
    },
    {
      "cell_type": "code",
      "execution_count": null,
      "metadata": {},
      "outputs": [],
      "source": [
        "from rudi_node_write.rudi_types.rudi_media import RudiMediaFile\n",
        "\n",
        "media_info = rudi_node.post_local_file_and_media_info(file_local_path=file_local_path,media_id=media_id)\n",
        "print(media_info)\n",
        "\n",
        "distant_media = RudiMediaFile.from_json(rudi_node.connector.get_media_with_uuid(media_uuid=media_id))\n",
        "print('distant_media:', distant_media)\n",
        "\n",
        "print (media_info.media_id==distant_media.media_id)"
      ]
    },
    {
      "cell_type": "code",
      "execution_count": null,
      "metadata": {},
      "outputs": [],
      "source": []
    }
  ],
  "metadata": {
    "kernelspec": {
      "display_name": "Python 3",
      "language": "python",
      "name": "python3"
    },
    "language_info": {
      "codemirror_mode": {
        "name": "ipython",
        "version": 3
      },
      "file_extension": ".py",
      "mimetype": "text/x-python",
      "name": "python",
      "nbconvert_exporter": "python",
      "pygments_lexer": "ipython3",
      "version": "3.11.9"
    }
  },
  "nbformat": 4,
  "nbformat_minor": 2
}
